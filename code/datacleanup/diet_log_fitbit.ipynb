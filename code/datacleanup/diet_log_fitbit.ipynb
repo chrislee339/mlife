{
 "cells": [
  {
   "cell_type": "code",
   "execution_count": 15,
   "id": "df07c272",
   "metadata": {},
   "outputs": [],
   "source": [
    "import pandas as pd, re\n",
    "import io\n",
    "import csv\n",
    "import numpy as np\n",
    "from pathlib import Path\n",
    "\n",
    "df = pd.read_csv(\"/Users/clee/Documents/Lab/mlife/data/raw/diet_log_fitbit.csv\")\n"
   ]
  },
  {
   "cell_type": "code",
   "execution_count": null,
   "id": "14a39671",
   "metadata": {},
   "outputs": [
    {
     "name": "stdout",
     "output_type": "stream",
     "text": [
      "Missing values per column (NaN or '-'):\n",
      "\n",
      "Locale      171801\n",
      "Calories    105207\n",
      "Protein     105207\n",
      "Fiber       105207\n",
      "Fat         105207\n",
      "Carbs       105207\n",
      "Sodium      105207\n",
      "Brand        52869\n",
      "dtype: int64\n",
      "\n",
      "Percent missing per column (NaN or '-'):\n",
      "\n",
      "Locale      100.000000\n",
      "Calories     61.237711\n",
      "Protein      61.237711\n",
      "Fiber        61.237711\n",
      "Fat          61.237711\n",
      "Carbs        61.237711\n",
      "Sodium       61.237711\n",
      "Brand        30.773395\n",
      "dtype: float64\n"
     ]
    }
   ],
   "source": [
    "missing_counts = df.isnull().sum()\n",
    "\n",
    "dash_counts = (df == '-').sum()\n",
    "\n",
    "combined_missing = (missing_counts + dash_counts).sort_values(ascending=False)\n",
    "\n",
    "combined_missing = combined_missing[combined_missing > 0]\n",
    "\n",
    "print(\"Missing values per column (NaN or '-'):\\n\")\n",
    "print(combined_missing)\n",
    "\n",
    "total_rows = len(df)\n",
    "missing_percent = (combined_missing / total_rows * 100).sort_values(ascending=False)\n",
    "print(\"\\nPercent missing per column (NaN or '-'):\\n\")\n",
    "print(missing_percent)"
   ]
  },
  {
   "cell_type": "code",
   "execution_count": 4,
   "id": "719613a6",
   "metadata": {},
   "outputs": [
    {
     "name": "stdout",
     "output_type": "stream",
     "text": [
      "Number of unique participant_id values: 133\n",
      "[2001 2002 2003 2004 2005 2006 2007 2008 2009 2010 2011 2012 2013 2014\n",
      " 2015 2016 2017 2018 2019 2020 2021 2022 2024 2025 2027 2029 2031 2033\n",
      " 2034 2035 2036 2037 2038 2039 2040 2041 2042 2043 2044 2045 2046 2047\n",
      " 2048 2049 2050 2051 2052 2053 2054 2056 2057 2058 2059 2061 2064 2065\n",
      " 2066 2069 2074 2076 2079 2080 2081 2082 2083 2085 2086 2087 2088 2090\n",
      " 2091 2092 2093 2095 2099 2100 2101 2102 2103 2104 2105 2106 2107 2108\n",
      " 2109 2110 2111 2112 2113 2114 2115 2116 2117 2118 2119 2121 2122 2123\n",
      " 2124 2126 2127 2128 2129 2131 2134 2135 2136 2137 2138 2139 2140 2142\n",
      " 2143 2145 2146 2147 2148 2149 2150 2151 2153 2154 2155 2156 2158 2160\n",
      " 2162 2163 2164 2166 2168 2174 2175]\n"
     ]
    }
   ],
   "source": [
    "num_unique_ids = df['Participant ID'].nunique()\n",
    "print(f\"Number of unique participant_id values: {num_unique_ids}\")\n",
    "\n",
    "unique_ids = df['Participant ID'].unique()\n",
    "print(unique_ids)"
   ]
  },
  {
   "cell_type": "code",
   "execution_count": 9,
   "id": "d6b00062",
   "metadata": {},
   "outputs": [
    {
     "name": "stdout",
     "output_type": "stream",
     "text": [
      "Counts for 'group':\n",
      " Group\n",
      "mLife+Points2       101123\n",
      "mLife (control2)     70678\n",
      "Name: count, dtype: int64 \n",
      "\n",
      "Counts for 'meal':\n",
      " Mealtypeid\n",
      "1    50269\n",
      "5    45493\n",
      "3    43480\n",
      "6    11491\n",
      "4    11287\n",
      "2     5347\n",
      "7     4434\n",
      "Name: count, dtype: int64\n"
     ]
    }
   ],
   "source": [
    "group_counts = df['Group'].value_counts(dropna=False)\n",
    "print(\"Counts for 'group':\\n\", group_counts, \"\\n\")\n",
    "\n",
    "meal_counts = df['Mealtypeid'].value_counts(dropna=False)\n",
    "print(\"Counts for 'meal':\\n\", meal_counts)"
   ]
  },
  {
   "cell_type": "code",
   "execution_count": 17,
   "id": "8b3b16a5",
   "metadata": {},
   "outputs": [
    {
     "name": "stdout",
     "output_type": "stream",
     "text": [
      "Saved 105207 rows to /Users/clee/Documents/Lab/mlife/data/tmp/missing_diet_log_fitbit.csv\n"
     ]
    }
   ],
   "source": [
    "cols = [\"Carbs\", \"Fat\", \"Fiber\", \"Protein\", \"Sodium\"]\n",
    "\n",
    "macro_missing = (\n",
    "    df[cols]\n",
    "    .replace(\"-\", np.nan)\n",
    "    .replace(r\"^\\s*$\", np.nan, regex=True)\n",
    "    .isna()\n",
    "    .all(axis=1)\n",
    ")\n",
    "\n",
    "missing_macro_rows = df.loc[macro_missing]\n",
    "\n",
    "output_path = Path(\"/Users/clee/Documents/Lab/mlife/data/tmp/missing_diet_log_fitbit.csv\")\n",
    "missing_macro_rows.to_csv(output_path, index=False)\n",
    "\n",
    "print(f\"Saved {missing_macro_rows.shape[0]} rows to {output_path}\")\n"
   ]
  }
 ],
 "metadata": {
  "kernelspec": {
   "display_name": "clee",
   "language": "python",
   "name": "python3"
  },
  "language_info": {
   "codemirror_mode": {
    "name": "ipython",
    "version": 3
   },
   "file_extension": ".py",
   "mimetype": "text/x-python",
   "name": "python",
   "nbconvert_exporter": "python",
   "pygments_lexer": "ipython3",
   "version": "3.8.20"
  }
 },
 "nbformat": 4,
 "nbformat_minor": 5
}
